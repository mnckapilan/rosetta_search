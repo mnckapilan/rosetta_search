{
 "cells": [
  {
   "cell_type": "code",
   "execution_count": 2,
   "id": "pointed-berlin",
   "metadata": {},
   "outputs": [
    {
     "data": {
      "text/plain": "False"
     },
     "execution_count": 2,
     "metadata": {},
     "output_type": "execute_result"
    }
   ],
   "source": [
    "from tree_sitter import Language, Parser\n",
    "\n",
    "Language.build_library(\n",
    "  # Store the library in the `build` directory\n",
    "  'build/my-languages.so',\n",
    "    \n",
    "  # Include one or more languages\n",
    "  [\n",
    "    'vendor/tree-sitter-javascript'\n",
    "  ]\n",
    ")"
   ]
  },
  {
   "cell_type": "code",
   "execution_count": 3,
   "id": "knowing-pantyhose",
   "metadata": {},
   "outputs": [],
   "source": [
    "JS_LANGUAGE = Language('build/my-languages.so', 'javascript')\n"
   ]
  },
  {
   "cell_type": "code",
   "execution_count": 4,
   "id": "honey-nicaragua",
   "metadata": {},
   "outputs": [],
   "source": [
    "parser = Parser()\n",
    "parser.set_language(JS_LANGUAGE)"
   ]
  },
  {
   "cell_type": "code",
   "execution_count": 5,
   "id": "absolute-mexico",
   "metadata": {},
   "outputs": [],
   "source": [
    "tree = parser.parse(bytes(\"\"\"\n",
    "console.log('Hello World');\n",
    "\"\"\", \"utf8\"))"
   ]
  },
  {
   "cell_type": "code",
   "execution_count": 6,
   "id": "respected-improvement",
   "metadata": {},
   "outputs": [
    {
     "name": "stdout",
     "output_type": "stream",
     "text": [
      "<tree_sitter.Tree object at 0x1103b1210>\n"
     ]
    }
   ],
   "source": [
    "print(tree)"
   ]
  },
  {
   "cell_type": "code",
   "execution_count": 7,
   "id": "acute-composite",
   "metadata": {},
   "outputs": [
    {
     "name": "stdout",
     "output_type": "stream",
     "text": [
      "program\n",
      "expression_statement\n",
      "call_expression\n",
      ";\n",
      "\n"
     ]
    }
   ],
   "source": [
    "cursor = tree.walk()\n",
    "print(cursor.node.type)\n",
    "\n",
    "cursor.goto_first_child()\n",
    "\n",
    "print(cursor.node.type)\n",
    "\n",
    "cursor.goto_first_child()\n",
    "\n",
    "print(cursor.node.type)\n",
    "\n",
    "cursor.goto_next_sibling()\n",
    "\n",
    "print(cursor.node.type)\n",
    "\n",
    "print()\n",
    "\n",
    "# assert cursor.goto_next_sibling()\n",
    "# assert cursor.node.type == 'identifier'\n",
    "\n",
    "# assert cursor.goto_next_sibling()\n",
    "# assert cursor.node.type == 'parameters'\n",
    "\n",
    "# assert cursor.goto_parent()\n",
    "# assert cursor.node.type == 'function_definition'"
   ]
  },
  {
   "cell_type": "code",
   "execution_count": null,
   "id": "imperial-november",
   "metadata": {},
   "outputs": [],
   "source": []
  },
  {
   "cell_type": "code",
   "execution_count": null,
   "id": "front-curve",
   "metadata": {},
   "outputs": [],
   "source": []
  }
 ],
 "metadata": {
  "kernelspec": {
   "display_name": "Python 3",
   "language": "python",
   "name": "python3"
  },
  "language_info": {
   "codemirror_mode": {
    "name": "ipython",
    "version": 3
   },
   "file_extension": ".py",
   "mimetype": "text/x-python",
   "name": "python",
   "nbconvert_exporter": "python",
   "pygments_lexer": "ipython3",
   "version": "3.9.1"
  }
 },
 "nbformat": 4,
 "nbformat_minor": 5
}