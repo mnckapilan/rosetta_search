{
 "cells": [
  {
   "cell_type": "code",
   "execution_count": 1,
   "metadata": {
    "collapsed": true
   },
   "outputs": [],
   "source": [
    "from git import Repo"
   ]
  },
  {
   "cell_type": "code",
   "execution_count": 2,
   "outputs": [],
   "source": [
    "repo = Repo(\"/Users/kapilan/githome/for_analysis/now/crdt-canvas\")"
   ],
   "metadata": {
    "collapsed": false,
    "pycharm": {
     "name": "#%%\n"
    }
   }
  },
  {
   "cell_type": "code",
   "execution_count": 3,
   "outputs": [
    {
     "name": "stdout",
     "output_type": "stream",
     "text": [
      "60a7a0d60af47c7e25edefe1de1ae49a7741d094 changed these lines: ['//', '//  CRDTEngine.swift', '//  Canvas', '//', '//  Created by Hashan Punchihewa on 31/12/2019.', '//  Copyright © 2019 jackmorrison. All rights reserved.', '//', '', 'import Foundation', '', 'typealias CRDTDocument = [String: Stroke]', 'typealias CRDTResult = (CRDTDocument, String)', 'typealias CRDTCallback<T> =  (_ returnValue: T) -> Void', '', 'protocol CRDTEngine {', '    func addChange(_ change: Change) -> CRDTResult', '    func applyExternalChanges(_ changes: String) -> CRDTDocument', '    func getAllChanges() -> String']\n",
      "fad175b7e45d91137358a935c4d722ce4f84ea82 changed these lines: ['    func clearCRDT()']\n",
      "60a7a0d60af47c7e25edefe1de1ae49a7741d094 changed these lines: ['}']\n"
     ]
    }
   ],
   "source": [
    "filepath = \"/Users/kapilan/githome/for_analysis/now/crdt-canvas/Canvas/CRDTEngine.swift\"\n",
    "for commit,lines in repo.blame('HEAD', filepath):\n",
    "    print(\"%s changed these lines: %s\" % (commit, lines))"
   ],
   "metadata": {
    "collapsed": false,
    "pycharm": {
     "name": "#%%\n"
    }
   }
  },
  {
   "cell_type": "code",
   "execution_count": 3,
   "outputs": [],
   "source": [],
   "metadata": {
    "collapsed": false,
    "pycharm": {
     "name": "#%%\n"
    }
   }
  }
 ],
 "metadata": {
  "kernelspec": {
   "display_name": "Python 3",
   "language": "python",
   "name": "python3"
  },
  "language_info": {
   "codemirror_mode": {
    "name": "ipython",
    "version": 2
   },
   "file_extension": ".py",
   "mimetype": "text/x-python",
   "name": "python",
   "nbconvert_exporter": "python",
   "pygments_lexer": "ipython2",
   "version": "2.7.6"
  }
 },
 "nbformat": 4,
 "nbformat_minor": 0
}