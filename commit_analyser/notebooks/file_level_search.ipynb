{
 "cells": [
  {
   "cell_type": "code",
   "execution_count": 1,
   "metadata": {
    "collapsed": true
   },
   "outputs": [],
   "source": [
    "import pickle\n",
    "from pydriller import RepositoryMining, GitRepository\n",
    "from tqdm import tqdm\n",
    "from textblob import TextBlob, Word\n",
    "from gitignore_parser import parse_gitignore"
   ]
  },
  {
   "cell_type": "code",
   "execution_count": 1,
   "outputs": [],
   "source": [
    "class Index:\n",
    "    def __init__(self, repo_path):\n",
    "        self.repo_path = repo_path\n",
    "        self.repo_stub = repo_path.rsplit('/', 1)[-1]\n",
    "        self.repo_obj = GitRepository(repo_path)\n",
    "        self.index = {}\n",
    "        self.build_index()\n",
    "\n",
    "    @classmethod\n",
    "    def load_index(cls, filepath):\n",
    "        with open(filepath, \"rb\") as file:\n",
    "            return pickle.load(file)\n",
    "\n",
    "    def build_index(self):\n",
    "        file_list = self.get_file_list()\n",
    "        for filepath in tqdm(file_list):\n",
    "            for commit in RepositoryMining(self.repo_path, filepath=filepath).traverse_commits():\n",
    "                self.add(commit.msg, filepath)\n",
    "\n",
    "    def add(self, message, file):\n",
    "        tokens = TextBlob(message).words.lemmatize()\n",
    "        for token in tokens:\n",
    "            try:\n",
    "                self.index[token].add(file)\n",
    "            except KeyError:\n",
    "                self.index[token] = {file}\n",
    "\n",
    "    def search(self, query):\n",
    "        lemma = Word(query).lemmatize()\n",
    "        return self.index[lemma]\n",
    "\n",
    "    def get_file_list(self):\n",
    "        file_list = self.repo_obj.files()\n",
    "        try:\n",
    "            matches = parse_gitignore(self.repo_path + '/.gitignore')\n",
    "        except FileNotFoundError:\n",
    "            return file_list\n",
    "        return [x for x in file_list if not matches(x)]\n",
    "\n",
    "    def save_index(self, filepath):\n",
    "        with open(filepath, \"wb\") as file:\n",
    "            pickle.dump(self, file)"
   ],
   "metadata": {
    "collapsed": false,
    "pycharm": {
     "name": "#%%\n"
    }
   }
  },
  {
   "cell_type": "code",
   "execution_count": 7,
   "outputs": [
    {
     "name": "stderr",
     "output_type": "stream",
     "text": [
      "100%|██████████| 60/60 [00:06<00:00,  9.92it/s]\n"
     ]
    },
    {
     "name": "stdout",
     "output_type": "stream",
     "text": [
      "Generating Index for crdt-canvas\n"
     ]
    },
    {
     "data": {
      "text/plain": "{'/Users/kapilan/githome/for_analysis/crdt-canvas/Canvas.xcodeproj/project.pbxproj',\n '/Users/kapilan/githome/for_analysis/crdt-canvas/Canvas/AutomergeJavaScript.swift',\n '/Users/kapilan/githome/for_analysis/crdt-canvas/Canvas/DrawView.swift',\n '/Users/kapilan/githome/for_analysis/crdt-canvas/Canvas/ViewController.swift'}"
     },
     "execution_count": 7,
     "metadata": {},
     "output_type": "execute_result"
    }
   ],
   "source": [
    "crdt_index = Index(\"/Users/kapilan/githome/for_analysis/crdt-canvas\")\n",
    "crdt_index.search(\"call\")"
   ],
   "metadata": {
    "collapsed": false,
    "pycharm": {
     "name": "#%%\n"
    }
   }
  },
  {
   "cell_type": "code",
   "execution_count": 35,
   "outputs": [],
   "source": [
    "crdt_index.save_index(\"crdt_canvas_index.p\")"
   ],
   "metadata": {
    "collapsed": false,
    "pycharm": {
     "name": "#%%\n"
    }
   }
  },
  {
   "cell_type": "code",
   "execution_count": 31,
   "outputs": [
    {
     "data": {
      "text/plain": "{'/Users/kapilan/githome/Signal-Android/app/src/main/AndroidManifest.xml',\n '/Users/kapilan/githome/Signal-Android/app/src/main/java/org/thoughtcrime/securesms/ApplicationContext.java',\n '/Users/kapilan/githome/Signal-Android/app/src/main/java/org/thoughtcrime/securesms/ApplicationPreferencesActivity.java',\n '/Users/kapilan/githome/Signal-Android/app/src/main/java/org/thoughtcrime/securesms/ContactSelectionActivity.java',\n '/Users/kapilan/githome/Signal-Android/app/src/main/java/org/thoughtcrime/securesms/ContactSelectionListFragment.java',\n '/Users/kapilan/githome/Signal-Android/app/src/main/java/org/thoughtcrime/securesms/NewConversationActivity.java',\n '/Users/kapilan/githome/Signal-Android/app/src/main/java/org/thoughtcrime/securesms/contacts/ContactsCursorLoader.java',\n '/Users/kapilan/githome/Signal-Android/app/src/main/java/org/thoughtcrime/securesms/contacts/sync/DirectoryHelper.java',\n '/Users/kapilan/githome/Signal-Android/app/src/main/java/org/thoughtcrime/securesms/conversation/ConversationActivity.java',\n '/Users/kapilan/githome/Signal-Android/app/src/main/java/org/thoughtcrime/securesms/conversation/MenuState.java',\n '/Users/kapilan/githome/Signal-Android/app/src/main/java/org/thoughtcrime/securesms/crypto/PreKeyUtil.java',\n '/Users/kapilan/githome/Signal-Android/app/src/main/java/org/thoughtcrime/securesms/crypto/storage/SignalProtocolStoreImpl.java',\n '/Users/kapilan/githome/Signal-Android/app/src/main/java/org/thoughtcrime/securesms/database/RecipientDatabase.java',\n '/Users/kapilan/githome/Signal-Android/app/src/main/java/org/thoughtcrime/securesms/groups/GroupsV1MigrationUtil.java',\n '/Users/kapilan/githome/Signal-Android/app/src/main/java/org/thoughtcrime/securesms/jobs/DirectoryRefreshJob.java',\n '/Users/kapilan/githome/Signal-Android/app/src/main/java/org/thoughtcrime/securesms/jobs/FcmRefreshJob.java',\n '/Users/kapilan/githome/Signal-Android/app/src/main/java/org/thoughtcrime/securesms/jobs/GroupV1MigrationJob.java',\n '/Users/kapilan/githome/Signal-Android/app/src/main/java/org/thoughtcrime/securesms/jobs/JobManagerFactories.java',\n '/Users/kapilan/githome/Signal-Android/app/src/main/java/org/thoughtcrime/securesms/jobs/ProfileUploadJob.java',\n '/Users/kapilan/githome/Signal-Android/app/src/main/java/org/thoughtcrime/securesms/jobs/RefreshAttributesJob.java',\n '/Users/kapilan/githome/Signal-Android/app/src/main/java/org/thoughtcrime/securesms/jobs/RefreshOwnProfileJob.java',\n '/Users/kapilan/githome/Signal-Android/app/src/main/java/org/thoughtcrime/securesms/jobs/RefreshPreKeysJob.java',\n '/Users/kapilan/githome/Signal-Android/app/src/main/java/org/thoughtcrime/securesms/jobs/RotateSignedPreKeyJob.java',\n '/Users/kapilan/githome/Signal-Android/app/src/main/java/org/thoughtcrime/securesms/keyvalue/SignalStore.java',\n '/Users/kapilan/githome/Signal-Android/app/src/main/java/org/thoughtcrime/securesms/lock/v2/BaseKbsPinFragment.java',\n '/Users/kapilan/githome/Signal-Android/app/src/main/java/org/thoughtcrime/securesms/lock/v2/ConfirmKbsPinFragment.java',\n '/Users/kapilan/githome/Signal-Android/app/src/main/java/org/thoughtcrime/securesms/migrations/ApplicationMigrations.java',\n '/Users/kapilan/githome/Signal-Android/app/src/main/java/org/thoughtcrime/securesms/migrations/DirectoryRefreshMigrationJob.java',\n '/Users/kapilan/githome/Signal-Android/app/src/main/java/org/thoughtcrime/securesms/pin/PinRestoreEntryFragment.java',\n '/Users/kapilan/githome/Signal-Android/app/src/main/java/org/thoughtcrime/securesms/pin/PinRestoreRepository.java',\n '/Users/kapilan/githome/Signal-Android/app/src/main/java/org/thoughtcrime/securesms/preferences/InternalOptionsPreferenceFragment.java',\n '/Users/kapilan/githome/Signal-Android/app/src/main/java/org/thoughtcrime/securesms/profiles/edit/EditProfileFragment.java',\n '/Users/kapilan/githome/Signal-Android/app/src/main/java/org/thoughtcrime/securesms/recipients/RecipientUtil.java',\n '/Users/kapilan/githome/Signal-Android/app/src/main/java/org/thoughtcrime/securesms/registration/RegistrationUtil.java',\n '/Users/kapilan/githome/Signal-Android/app/src/main/java/org/thoughtcrime/securesms/service/DirectoryRefreshListener.java',\n '/Users/kapilan/githome/Signal-Android/app/src/main/java/org/thoughtcrime/securesms/util/FeatureFlags.java',\n '/Users/kapilan/githome/Signal-Android/app/src/main/java/org/thoughtcrime/securesms/util/TextSecurePreferences.java',\n '/Users/kapilan/githome/Signal-Android/app/src/main/java/org/thoughtcrime/securesms/util/VersionTracker.java',\n '/Users/kapilan/githome/Signal-Android/app/src/main/res/layout/contact_filter_toolbar.xml',\n '/Users/kapilan/githome/Signal-Android/app/src/main/res/layout/giphy_activity_toolbar.xml',\n '/Users/kapilan/githome/Signal-Android/app/src/main/res/menu/new_conversation_activity.xml',\n '/Users/kapilan/githome/Signal-Android/app/src/main/res/values/attrs.xml',\n '/Users/kapilan/githome/Signal-Android/app/src/main/res/values/strings.xml',\n '/Users/kapilan/githome/Signal-Android/app/src/main/res/values/styles.xml',\n '/Users/kapilan/githome/Signal-Android/app/src/main/res/values/themes.xml',\n '/Users/kapilan/githome/Signal-Android/app/src/main/res/xml/preferences.xml',\n '/Users/kapilan/githome/Signal-Android/app/src/main/res/xml/preferences_internal.xml'}"
     },
     "execution_count": 31,
     "metadata": {},
     "output_type": "execute_result"
    }
   ],
   "source": [
    "signal_android_index = Index.load_index(\"Signal_Android_Index.p\")\n",
    "signal_android_index.search(\"refresh\")"
   ],
   "metadata": {
    "collapsed": false,
    "pycharm": {
     "name": "#%%\n"
    }
   }
  },
  {
   "cell_type": "code",
   "execution_count": 6,
   "outputs": [
    {
     "name": "stderr",
     "output_type": "stream",
     "text": [
      "100%|██████████| 60/60 [00:04<00:00, 12.46it/s]\n",
      "100%|██████████| 761/761 [01:53<00:00,  6.70it/s]\n",
      "100%|██████████| 4289/4289 [46:52<00:00,  1.52it/s]\n",
      "100%|██████████| 525/525 [02:26<00:00,  3.57it/s]\n",
      " 23%|██▎       | 1131/4933 [35:11<1:58:17,  1.87s/it]\n"
     ]
    },
    {
     "name": "stdout",
     "output_type": "stream",
     "text": [
      "Generating Index for crdt-canvas\n",
      "Index saved for crdt-canvas\n",
      "Generating Index for pintos-for-students\n",
      "Index saved for pintos-for-students\n",
      "Generating Index for Signal-Android\n",
      "Index saved for Signal-Android\n",
      "Generating Index for vue\n",
      "Index saved for vue\n",
      "Generating Index for flutter\n"
     ]
    },
    {
     "ename": "KeyboardInterrupt",
     "evalue": "",
     "output_type": "error",
     "traceback": [
      "\u001B[0;31m---------------------------------------------------------------------------\u001B[0m",
      "\u001B[0;31mKeyboardInterrupt\u001B[0m                         Traceback (most recent call last)",
      "\u001B[0;32m<ipython-input-6-d63e64a95d3a>\u001B[0m in \u001B[0;36m<module>\u001B[0;34m\u001B[0m\n\u001B[1;32m      3\u001B[0m \u001B[0;34m\u001B[0m\u001B[0m\n\u001B[1;32m      4\u001B[0m \u001B[0;32mfor\u001B[0m \u001B[0mstub\u001B[0m \u001B[0;32min\u001B[0m \u001B[0mprojects\u001B[0m\u001B[0;34m:\u001B[0m\u001B[0;34m\u001B[0m\u001B[0;34m\u001B[0m\u001B[0m\n\u001B[0;32m----> 5\u001B[0;31m     \u001B[0mindex\u001B[0m \u001B[0;34m=\u001B[0m \u001B[0mIndex\u001B[0m\u001B[0;34m(\u001B[0m\u001B[0;34m'/Users/kapilan/githome/for_analysis/'\u001B[0m \u001B[0;34m+\u001B[0m \u001B[0mstub\u001B[0m\u001B[0;34m)\u001B[0m\u001B[0;34m\u001B[0m\u001B[0;34m\u001B[0m\u001B[0m\n\u001B[0m\u001B[1;32m      6\u001B[0m     \u001B[0mindex\u001B[0m\u001B[0;34m.\u001B[0m\u001B[0msave_index\u001B[0m\u001B[0;34m(\u001B[0m\u001B[0mstub\u001B[0m \u001B[0;34m+\u001B[0m \u001B[0;34m\"_index.p\"\u001B[0m\u001B[0;34m)\u001B[0m\u001B[0;34m\u001B[0m\u001B[0;34m\u001B[0m\u001B[0m\n\u001B[1;32m      7\u001B[0m     \u001B[0mprint\u001B[0m\u001B[0;34m(\u001B[0m\u001B[0;34m\"Index saved for \"\u001B[0m \u001B[0;34m+\u001B[0m \u001B[0mstub\u001B[0m\u001B[0;34m)\u001B[0m\u001B[0;34m\u001B[0m\u001B[0;34m\u001B[0m\u001B[0m\n",
      "\u001B[0;32m<ipython-input-5-3cb77049557b>\u001B[0m in \u001B[0;36m__init__\u001B[0;34m(self, repo_path)\u001B[0m\n\u001B[1;32m      8\u001B[0m         \u001B[0mprint\u001B[0m\u001B[0;34m(\u001B[0m\u001B[0;34m\"Generating Index for \"\u001B[0m \u001B[0;34m+\u001B[0m \u001B[0mself\u001B[0m\u001B[0;34m.\u001B[0m\u001B[0mrepo_stub\u001B[0m\u001B[0;34m)\u001B[0m\u001B[0;34m\u001B[0m\u001B[0;34m\u001B[0m\u001B[0m\n\u001B[1;32m      9\u001B[0m         \u001B[0;32mfor\u001B[0m \u001B[0mfilepath\u001B[0m \u001B[0;32min\u001B[0m \u001B[0mtqdm\u001B[0m\u001B[0;34m(\u001B[0m\u001B[0mfile_list\u001B[0m\u001B[0;34m)\u001B[0m\u001B[0;34m:\u001B[0m\u001B[0;34m\u001B[0m\u001B[0;34m\u001B[0m\u001B[0m\n\u001B[0;32m---> 10\u001B[0;31m             \u001B[0;32mfor\u001B[0m \u001B[0mcommit\u001B[0m \u001B[0;32min\u001B[0m \u001B[0mRepositoryMining\u001B[0m\u001B[0;34m(\u001B[0m\u001B[0mself\u001B[0m\u001B[0;34m.\u001B[0m\u001B[0mrepo_path\u001B[0m\u001B[0;34m,\u001B[0m \u001B[0mfilepath\u001B[0m\u001B[0;34m=\u001B[0m\u001B[0mfilepath\u001B[0m\u001B[0;34m)\u001B[0m\u001B[0;34m.\u001B[0m\u001B[0mtraverse_commits\u001B[0m\u001B[0;34m(\u001B[0m\u001B[0;34m)\u001B[0m\u001B[0;34m:\u001B[0m\u001B[0;34m\u001B[0m\u001B[0;34m\u001B[0m\u001B[0m\n\u001B[0m\u001B[1;32m     11\u001B[0m                 \u001B[0mself\u001B[0m\u001B[0;34m.\u001B[0m\u001B[0madd\u001B[0m\u001B[0;34m(\u001B[0m\u001B[0mcommit\u001B[0m\u001B[0;34m.\u001B[0m\u001B[0mmsg\u001B[0m\u001B[0;34m,\u001B[0m \u001B[0mfilepath\u001B[0m\u001B[0;34m)\u001B[0m\u001B[0;34m\u001B[0m\u001B[0;34m\u001B[0m\u001B[0m\n\u001B[1;32m     12\u001B[0m \u001B[0;34m\u001B[0m\u001B[0m\n",
      "\u001B[0;32m~/githome/semantic-search/env/lib/python3.9/site-packages/pydriller/repository_mining.py\u001B[0m in \u001B[0;36mtraverse_commits\u001B[0;34m(self)\u001B[0m\n\u001B[1;32m    219\u001B[0m                 \u001B[0;31m# Iterate over all the commits returned by git rev-list\u001B[0m\u001B[0;34m\u001B[0m\u001B[0;34m\u001B[0m\u001B[0;34m\u001B[0m\u001B[0m\n\u001B[1;32m    220\u001B[0m                 \u001B[0;32mfor\u001B[0m \u001B[0mcommit\u001B[0m \u001B[0;32min\u001B[0m \u001B[0mgit_repo\u001B[0m\u001B[0;34m.\u001B[0m\u001B[0mget_list_commits\u001B[0m\u001B[0;34m(\u001B[0m\u001B[0mrev\u001B[0m\u001B[0;34m,\u001B[0m \u001B[0;34m**\u001B[0m\u001B[0mkwargs\u001B[0m\u001B[0;34m)\u001B[0m\u001B[0;34m:\u001B[0m\u001B[0;34m\u001B[0m\u001B[0;34m\u001B[0m\u001B[0m\n\u001B[0;32m--> 221\u001B[0;31m                     \u001B[0mlogger\u001B[0m\u001B[0;34m.\u001B[0m\u001B[0minfo\u001B[0m\u001B[0;34m(\u001B[0m\u001B[0;34m'Commit #%s in %s from %s'\u001B[0m\u001B[0;34m,\u001B[0m \u001B[0mcommit\u001B[0m\u001B[0;34m.\u001B[0m\u001B[0mhash\u001B[0m\u001B[0;34m,\u001B[0m \u001B[0mcommit\u001B[0m\u001B[0;34m.\u001B[0m\u001B[0mcommitter_date\u001B[0m\u001B[0;34m,\u001B[0m \u001B[0mcommit\u001B[0m\u001B[0;34m.\u001B[0m\u001B[0mauthor\u001B[0m\u001B[0;34m.\u001B[0m\u001B[0mname\u001B[0m\u001B[0;34m)\u001B[0m\u001B[0;34m\u001B[0m\u001B[0;34m\u001B[0m\u001B[0m\n\u001B[0m\u001B[1;32m    222\u001B[0m \u001B[0;34m\u001B[0m\u001B[0m\n\u001B[1;32m    223\u001B[0m                     \u001B[0;32mif\u001B[0m \u001B[0mself\u001B[0m\u001B[0;34m.\u001B[0m\u001B[0m_conf\u001B[0m\u001B[0;34m.\u001B[0m\u001B[0mis_commit_filtered\u001B[0m\u001B[0;34m(\u001B[0m\u001B[0mcommit\u001B[0m\u001B[0;34m)\u001B[0m\u001B[0;34m:\u001B[0m\u001B[0;34m\u001B[0m\u001B[0;34m\u001B[0m\u001B[0m\n",
      "\u001B[0;32m~/githome/semantic-search/env/lib/python3.9/site-packages/pydriller/domain/commit.py\u001B[0m in \u001B[0;36mcommitter_date\u001B[0;34m(self)\u001B[0m\n\u001B[1;32m    505\u001B[0m         \u001B[0;34m:\u001B[0m\u001B[0;32mreturn\u001B[0m\u001B[0;34m:\u001B[0m \u001B[0mdatetime\u001B[0m \u001B[0mcommitter_datetime\u001B[0m\u001B[0;34m\u001B[0m\u001B[0;34m\u001B[0m\u001B[0m\n\u001B[1;32m    506\u001B[0m         \"\"\"\n\u001B[0;32m--> 507\u001B[0;31m         \u001B[0;32mreturn\u001B[0m \u001B[0mself\u001B[0m\u001B[0;34m.\u001B[0m\u001B[0m_c_object\u001B[0m\u001B[0;34m.\u001B[0m\u001B[0mcommitted_datetime\u001B[0m\u001B[0;34m\u001B[0m\u001B[0;34m\u001B[0m\u001B[0m\n\u001B[0m\u001B[1;32m    508\u001B[0m \u001B[0;34m\u001B[0m\u001B[0m\n\u001B[1;32m    509\u001B[0m     \u001B[0;34m@\u001B[0m\u001B[0mproperty\u001B[0m\u001B[0;34m\u001B[0m\u001B[0;34m\u001B[0m\u001B[0m\n",
      "\u001B[0;32m~/githome/semantic-search/env/lib/python3.9/site-packages/git/objects/commit.py\u001B[0m in \u001B[0;36mcommitted_datetime\u001B[0;34m(self)\u001B[0m\n\u001B[1;32m    152\u001B[0m     \u001B[0;34m@\u001B[0m\u001B[0mproperty\u001B[0m\u001B[0;34m\u001B[0m\u001B[0;34m\u001B[0m\u001B[0m\n\u001B[1;32m    153\u001B[0m     \u001B[0;32mdef\u001B[0m \u001B[0mcommitted_datetime\u001B[0m\u001B[0;34m(\u001B[0m\u001B[0mself\u001B[0m\u001B[0;34m)\u001B[0m\u001B[0;34m:\u001B[0m\u001B[0;34m\u001B[0m\u001B[0;34m\u001B[0m\u001B[0m\n\u001B[0;32m--> 154\u001B[0;31m         \u001B[0;32mreturn\u001B[0m \u001B[0mfrom_timestamp\u001B[0m\u001B[0;34m(\u001B[0m\u001B[0mself\u001B[0m\u001B[0;34m.\u001B[0m\u001B[0mcommitted_date\u001B[0m\u001B[0;34m,\u001B[0m \u001B[0mself\u001B[0m\u001B[0;34m.\u001B[0m\u001B[0mcommitter_tz_offset\u001B[0m\u001B[0;34m)\u001B[0m\u001B[0;34m\u001B[0m\u001B[0;34m\u001B[0m\u001B[0m\n\u001B[0m\u001B[1;32m    155\u001B[0m \u001B[0;34m\u001B[0m\u001B[0m\n\u001B[1;32m    156\u001B[0m     \u001B[0;34m@\u001B[0m\u001B[0mproperty\u001B[0m\u001B[0;34m\u001B[0m\u001B[0;34m\u001B[0m\u001B[0m\n",
      "\u001B[0;32m~/githome/semantic-search/env/lib/python3.9/site-packages/gitdb/util.py\u001B[0m in \u001B[0;36m__getattr__\u001B[0;34m(self, attr)\u001B[0m\n\u001B[1;32m    251\u001B[0m         \u001B[0mto\u001B[0m \u001B[0mbe\u001B[0m \u001B[0mcreated\u001B[0m \u001B[0;32mand\u001B[0m \u001B[0mset\u001B[0m\u001B[0;34m.\u001B[0m \u001B[0mNext\u001B[0m \u001B[0mtime\u001B[0m \u001B[0mthe\u001B[0m \u001B[0msame\u001B[0m \u001B[0mattribute\u001B[0m \u001B[0;32mis\u001B[0m \u001B[0mreqeusted\u001B[0m\u001B[0;34m,\u001B[0m \u001B[0mit\u001B[0m \u001B[0;32mis\u001B[0m \u001B[0msimply\u001B[0m\u001B[0;34m\u001B[0m\u001B[0;34m\u001B[0m\u001B[0m\n\u001B[1;32m    252\u001B[0m         returned from our dict/slots. \"\"\"\n\u001B[0;32m--> 253\u001B[0;31m         \u001B[0mself\u001B[0m\u001B[0;34m.\u001B[0m\u001B[0m_set_cache_\u001B[0m\u001B[0;34m(\u001B[0m\u001B[0mattr\u001B[0m\u001B[0;34m)\u001B[0m\u001B[0;34m\u001B[0m\u001B[0;34m\u001B[0m\u001B[0m\n\u001B[0m\u001B[1;32m    254\u001B[0m         \u001B[0;31m# will raise in case the cache was not created\u001B[0m\u001B[0;34m\u001B[0m\u001B[0;34m\u001B[0m\u001B[0;34m\u001B[0m\u001B[0m\n\u001B[1;32m    255\u001B[0m         \u001B[0;32mreturn\u001B[0m \u001B[0mobject\u001B[0m\u001B[0;34m.\u001B[0m\u001B[0m__getattribute__\u001B[0m\u001B[0;34m(\u001B[0m\u001B[0mself\u001B[0m\u001B[0;34m,\u001B[0m \u001B[0mattr\u001B[0m\u001B[0;34m)\u001B[0m\u001B[0;34m\u001B[0m\u001B[0;34m\u001B[0m\u001B[0m\n",
      "\u001B[0;32m~/githome/semantic-search/env/lib/python3.9/site-packages/git/objects/commit.py\u001B[0m in \u001B[0;36m_set_cache_\u001B[0;34m(self, attr)\u001B[0m\n\u001B[1;32m    140\u001B[0m         \u001B[0;32mif\u001B[0m \u001B[0mattr\u001B[0m \u001B[0;32min\u001B[0m \u001B[0mCommit\u001B[0m\u001B[0;34m.\u001B[0m\u001B[0m__slots__\u001B[0m\u001B[0;34m:\u001B[0m\u001B[0;34m\u001B[0m\u001B[0;34m\u001B[0m\u001B[0m\n\u001B[1;32m    141\u001B[0m             \u001B[0;31m# read the data in a chunk, its faster - then provide a file wrapper\u001B[0m\u001B[0;34m\u001B[0m\u001B[0;34m\u001B[0m\u001B[0;34m\u001B[0m\u001B[0m\n\u001B[0;32m--> 142\u001B[0;31m             \u001B[0m_binsha\u001B[0m\u001B[0;34m,\u001B[0m \u001B[0m_typename\u001B[0m\u001B[0;34m,\u001B[0m \u001B[0mself\u001B[0m\u001B[0;34m.\u001B[0m\u001B[0msize\u001B[0m\u001B[0;34m,\u001B[0m \u001B[0mstream\u001B[0m \u001B[0;34m=\u001B[0m \u001B[0mself\u001B[0m\u001B[0;34m.\u001B[0m\u001B[0mrepo\u001B[0m\u001B[0;34m.\u001B[0m\u001B[0modb\u001B[0m\u001B[0;34m.\u001B[0m\u001B[0mstream\u001B[0m\u001B[0;34m(\u001B[0m\u001B[0mself\u001B[0m\u001B[0;34m.\u001B[0m\u001B[0mbinsha\u001B[0m\u001B[0;34m)\u001B[0m\u001B[0;34m\u001B[0m\u001B[0;34m\u001B[0m\u001B[0m\n\u001B[0m\u001B[1;32m    143\u001B[0m             \u001B[0mself\u001B[0m\u001B[0;34m.\u001B[0m\u001B[0m_deserialize\u001B[0m\u001B[0;34m(\u001B[0m\u001B[0mBytesIO\u001B[0m\u001B[0;34m(\u001B[0m\u001B[0mstream\u001B[0m\u001B[0;34m.\u001B[0m\u001B[0mread\u001B[0m\u001B[0;34m(\u001B[0m\u001B[0;34m)\u001B[0m\u001B[0;34m)\u001B[0m\u001B[0;34m)\u001B[0m\u001B[0;34m\u001B[0m\u001B[0;34m\u001B[0m\u001B[0m\n\u001B[1;32m    144\u001B[0m         \u001B[0;32melse\u001B[0m\u001B[0;34m:\u001B[0m\u001B[0;34m\u001B[0m\u001B[0;34m\u001B[0m\u001B[0m\n",
      "\u001B[0;32m~/githome/semantic-search/env/lib/python3.9/site-packages/git/db.py\u001B[0m in \u001B[0;36mstream\u001B[0;34m(self, sha)\u001B[0m\n\u001B[1;32m     40\u001B[0m     \u001B[0;32mdef\u001B[0m \u001B[0mstream\u001B[0m\u001B[0;34m(\u001B[0m\u001B[0mself\u001B[0m\u001B[0;34m,\u001B[0m \u001B[0msha\u001B[0m\u001B[0;34m)\u001B[0m\u001B[0;34m:\u001B[0m\u001B[0;34m\u001B[0m\u001B[0;34m\u001B[0m\u001B[0m\n\u001B[1;32m     41\u001B[0m         \u001B[0;34m\"\"\"For now, all lookup is done by git itself\"\"\"\u001B[0m\u001B[0;34m\u001B[0m\u001B[0;34m\u001B[0m\u001B[0m\n\u001B[0;32m---> 42\u001B[0;31m         \u001B[0mhexsha\u001B[0m\u001B[0;34m,\u001B[0m \u001B[0mtypename\u001B[0m\u001B[0;34m,\u001B[0m \u001B[0msize\u001B[0m\u001B[0;34m,\u001B[0m \u001B[0mstream\u001B[0m \u001B[0;34m=\u001B[0m \u001B[0mself\u001B[0m\u001B[0;34m.\u001B[0m\u001B[0m_git\u001B[0m\u001B[0;34m.\u001B[0m\u001B[0mstream_object_data\u001B[0m\u001B[0;34m(\u001B[0m\u001B[0mbin_to_hex\u001B[0m\u001B[0;34m(\u001B[0m\u001B[0msha\u001B[0m\u001B[0;34m)\u001B[0m\u001B[0;34m)\u001B[0m\u001B[0;34m\u001B[0m\u001B[0;34m\u001B[0m\u001B[0m\n\u001B[0m\u001B[1;32m     43\u001B[0m         \u001B[0;32mreturn\u001B[0m \u001B[0mOStream\u001B[0m\u001B[0;34m(\u001B[0m\u001B[0mhex_to_bin\u001B[0m\u001B[0;34m(\u001B[0m\u001B[0mhexsha\u001B[0m\u001B[0;34m)\u001B[0m\u001B[0;34m,\u001B[0m \u001B[0mtypename\u001B[0m\u001B[0;34m,\u001B[0m \u001B[0msize\u001B[0m\u001B[0;34m,\u001B[0m \u001B[0mstream\u001B[0m\u001B[0;34m)\u001B[0m\u001B[0;34m\u001B[0m\u001B[0;34m\u001B[0m\u001B[0m\n\u001B[1;32m     44\u001B[0m \u001B[0;34m\u001B[0m\u001B[0m\n",
      "\u001B[0;32m~/githome/semantic-search/env/lib/python3.9/site-packages/git/cmd.py\u001B[0m in \u001B[0;36mstream_object_data\u001B[0;34m(self, ref)\u001B[0m\n\u001B[1;32m   1084\u001B[0m         :note: This method is not threadsafe, you need one independent Command instance per thread to be safe !\"\"\"\n\u001B[1;32m   1085\u001B[0m         \u001B[0mcmd\u001B[0m \u001B[0;34m=\u001B[0m \u001B[0mself\u001B[0m\u001B[0;34m.\u001B[0m\u001B[0m_get_persistent_cmd\u001B[0m\u001B[0;34m(\u001B[0m\u001B[0;34m\"cat_file_all\"\u001B[0m\u001B[0;34m,\u001B[0m \u001B[0;34m\"cat_file\"\u001B[0m\u001B[0;34m,\u001B[0m \u001B[0mbatch\u001B[0m\u001B[0;34m=\u001B[0m\u001B[0;32mTrue\u001B[0m\u001B[0;34m)\u001B[0m\u001B[0;34m\u001B[0m\u001B[0;34m\u001B[0m\u001B[0m\n\u001B[0;32m-> 1086\u001B[0;31m         \u001B[0mhexsha\u001B[0m\u001B[0;34m,\u001B[0m \u001B[0mtypename\u001B[0m\u001B[0;34m,\u001B[0m \u001B[0msize\u001B[0m \u001B[0;34m=\u001B[0m \u001B[0mself\u001B[0m\u001B[0;34m.\u001B[0m\u001B[0m__get_object_header\u001B[0m\u001B[0;34m(\u001B[0m\u001B[0mcmd\u001B[0m\u001B[0;34m,\u001B[0m \u001B[0mref\u001B[0m\u001B[0;34m)\u001B[0m\u001B[0;34m\u001B[0m\u001B[0;34m\u001B[0m\u001B[0m\n\u001B[0m\u001B[1;32m   1087\u001B[0m         \u001B[0;32mreturn\u001B[0m \u001B[0;34m(\u001B[0m\u001B[0mhexsha\u001B[0m\u001B[0;34m,\u001B[0m \u001B[0mtypename\u001B[0m\u001B[0;34m,\u001B[0m \u001B[0msize\u001B[0m\u001B[0;34m,\u001B[0m \u001B[0mself\u001B[0m\u001B[0;34m.\u001B[0m\u001B[0mCatFileContentStream\u001B[0m\u001B[0;34m(\u001B[0m\u001B[0msize\u001B[0m\u001B[0;34m,\u001B[0m \u001B[0mcmd\u001B[0m\u001B[0;34m.\u001B[0m\u001B[0mstdout\u001B[0m\u001B[0;34m)\u001B[0m\u001B[0;34m)\u001B[0m\u001B[0;34m\u001B[0m\u001B[0;34m\u001B[0m\u001B[0m\n\u001B[1;32m   1088\u001B[0m \u001B[0;34m\u001B[0m\u001B[0m\n",
      "\u001B[0;32m~/githome/semantic-search/env/lib/python3.9/site-packages/git/cmd.py\u001B[0m in \u001B[0;36m__get_object_header\u001B[0;34m(self, cmd, ref)\u001B[0m\n\u001B[1;32m   1054\u001B[0m \u001B[0;34m\u001B[0m\u001B[0m\n\u001B[1;32m   1055\u001B[0m     \u001B[0;32mdef\u001B[0m \u001B[0m__get_object_header\u001B[0m\u001B[0;34m(\u001B[0m\u001B[0mself\u001B[0m\u001B[0;34m,\u001B[0m \u001B[0mcmd\u001B[0m\u001B[0;34m,\u001B[0m \u001B[0mref\u001B[0m\u001B[0;34m)\u001B[0m\u001B[0;34m:\u001B[0m\u001B[0;34m\u001B[0m\u001B[0;34m\u001B[0m\u001B[0m\n\u001B[0;32m-> 1056\u001B[0;31m         \u001B[0mcmd\u001B[0m\u001B[0;34m.\u001B[0m\u001B[0mstdin\u001B[0m\u001B[0;34m.\u001B[0m\u001B[0mwrite\u001B[0m\u001B[0;34m(\u001B[0m\u001B[0mself\u001B[0m\u001B[0;34m.\u001B[0m\u001B[0m_prepare_ref\u001B[0m\u001B[0;34m(\u001B[0m\u001B[0mref\u001B[0m\u001B[0;34m)\u001B[0m\u001B[0;34m)\u001B[0m\u001B[0;34m\u001B[0m\u001B[0;34m\u001B[0m\u001B[0m\n\u001B[0m\u001B[1;32m   1057\u001B[0m         \u001B[0mcmd\u001B[0m\u001B[0;34m.\u001B[0m\u001B[0mstdin\u001B[0m\u001B[0;34m.\u001B[0m\u001B[0mflush\u001B[0m\u001B[0;34m(\u001B[0m\u001B[0;34m)\u001B[0m\u001B[0;34m\u001B[0m\u001B[0;34m\u001B[0m\u001B[0m\n\u001B[1;32m   1058\u001B[0m         \u001B[0;32mreturn\u001B[0m \u001B[0mself\u001B[0m\u001B[0;34m.\u001B[0m\u001B[0m_parse_object_header\u001B[0m\u001B[0;34m(\u001B[0m\u001B[0mcmd\u001B[0m\u001B[0;34m.\u001B[0m\u001B[0mstdout\u001B[0m\u001B[0;34m.\u001B[0m\u001B[0mreadline\u001B[0m\u001B[0;34m(\u001B[0m\u001B[0;34m)\u001B[0m\u001B[0;34m)\u001B[0m\u001B[0;34m\u001B[0m\u001B[0;34m\u001B[0m\u001B[0m\n",
      "\u001B[0;32m~/githome/semantic-search/env/lib/python3.9/site-packages/git/cmd.py\u001B[0m in \u001B[0;36m_prepare_ref\u001B[0;34m(self, ref)\u001B[0m\n\u001B[1;32m   1037\u001B[0m             \u001B[0mrefstr\u001B[0m \u001B[0;34m=\u001B[0m \u001B[0mstr\u001B[0m\u001B[0;34m(\u001B[0m\u001B[0mref\u001B[0m\u001B[0;34m)\u001B[0m               \u001B[0;31m# could be ref-object\u001B[0m\u001B[0;34m\u001B[0m\u001B[0;34m\u001B[0m\u001B[0m\n\u001B[1;32m   1038\u001B[0m \u001B[0;34m\u001B[0m\u001B[0m\n\u001B[0;32m-> 1039\u001B[0;31m         \u001B[0;32mif\u001B[0m \u001B[0;32mnot\u001B[0m \u001B[0mrefstr\u001B[0m\u001B[0;34m.\u001B[0m\u001B[0mendswith\u001B[0m\u001B[0;34m(\u001B[0m\u001B[0;34m\"\\n\"\u001B[0m\u001B[0;34m)\u001B[0m\u001B[0;34m:\u001B[0m\u001B[0;34m\u001B[0m\u001B[0;34m\u001B[0m\u001B[0m\n\u001B[0m\u001B[1;32m   1040\u001B[0m             \u001B[0mrefstr\u001B[0m \u001B[0;34m+=\u001B[0m \u001B[0;34m\"\\n\"\u001B[0m\u001B[0;34m\u001B[0m\u001B[0;34m\u001B[0m\u001B[0m\n\u001B[1;32m   1041\u001B[0m         \u001B[0;32mreturn\u001B[0m \u001B[0mrefstr\u001B[0m\u001B[0;34m.\u001B[0m\u001B[0mencode\u001B[0m\u001B[0;34m(\u001B[0m\u001B[0mdefenc\u001B[0m\u001B[0;34m)\u001B[0m\u001B[0;34m\u001B[0m\u001B[0;34m\u001B[0m\u001B[0m\n",
      "\u001B[0;31mKeyboardInterrupt\u001B[0m: "
     ]
    }
   ],
   "source": [
    "import os\n",
    "projects = next(os.walk('/Users/kapilan/githome/for_analysis'))[1]\n",
    "\n",
    "for stub in projects:\n",
    "    index = Index('/Users/kapilan/githome/for_analysis/' + stub)\n",
    "    index.save_index(stub + \"_index.p\")\n",
    "    print(\"Index saved for \" + stub)"
   ],
   "metadata": {
    "collapsed": false,
    "pycharm": {
     "name": "#%%\n"
    }
   }
  },
  {
   "cell_type": "code",
   "execution_count": null,
   "outputs": [],
   "source": [],
   "metadata": {
    "collapsed": false,
    "pycharm": {
     "name": "#%%\n"
    }
   }
  }
 ],
 "metadata": {
  "kernelspec": {
   "display_name": "Python 3",
   "language": "python",
   "name": "python3"
  },
  "language_info": {
   "codemirror_mode": {
    "name": "ipython",
    "version": 2
   },
   "file_extension": ".py",
   "mimetype": "text/x-python",
   "name": "python",
   "nbconvert_exporter": "python",
   "pygments_lexer": "ipython2",
   "version": "2.7.6"
  }
 },
 "nbformat": 4,
 "nbformat_minor": 0
}