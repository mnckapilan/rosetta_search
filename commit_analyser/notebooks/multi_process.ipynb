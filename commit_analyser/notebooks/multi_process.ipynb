{
 "cells": [
  {
   "cell_type": "code",
   "execution_count": 9,
   "metadata": {
    "collapsed": true
   },
   "outputs": [],
   "source": [
    "import os\n",
    "import pickle\n",
    "import time\n",
    "from time import time\n",
    "from gitignore_parser import parse_gitignore\n",
    "from pydriller import RepositoryMining, GitRepository\n",
    "from textblob import TextBlob, Word\n",
    "from tqdm import tqdm\n",
    "from multiprocessing import Pool"
   ]
  },
  {
   "cell_type": "code",
   "execution_count": 10,
   "outputs": [],
   "source": [
    "class Index:\n",
    "    def __init__(self, repo_path):\n",
    "        self.repo_path = repo_path\n",
    "        self.repo_stub = repo_path.rsplit('/', 1)[-1]\n",
    "        self.repo_obj = GitRepository(repo_path)\n",
    "        self.index = {}\n",
    "        self.build_index()\n",
    "\n",
    "    @classmethod\n",
    "    def load_index(cls, filepath):\n",
    "        with open(filepath, \"rb\") as file:\n",
    "            return pickle.load(file)\n",
    "\n",
    "    def build_index(self):\n",
    "        file_list = self.get_file_list()\n",
    "        for filepath in tqdm(file_list):\n",
    "            for commit in RepositoryMining(self.repo_path, filepath=filepath).traverse_commits():\n",
    "                self.add(commit.msg, filepath)\n",
    "\n",
    "    def add(self, message, file):\n",
    "        tokens = TextBlob(message).words.lemmatize()\n",
    "        for token in tokens:\n",
    "            try:\n",
    "                self.index[token].add(file)\n",
    "            except KeyError:\n",
    "                self.index[token] = {file}\n",
    "\n",
    "    def search(self, query):\n",
    "        lemma = Word(query).lemmatize()\n",
    "        return self.index[lemma]\n",
    "\n",
    "    def get_file_list(self):\n",
    "        file_list = self.repo_obj.files()\n",
    "        try:\n",
    "            matches = parse_gitignore(self.repo_path + '/.gitignore')\n",
    "        except FileNotFoundError:\n",
    "            return file_list\n",
    "        return [x for x in file_list if not matches(x)]\n",
    "\n",
    "    def save_index(self, filepath):\n",
    "        with open(filepath, \"wb\") as file:\n",
    "            pickle.dump(self, file)"
   ],
   "metadata": {
    "collapsed": false,
    "pycharm": {
     "name": "#%%\n"
    }
   }
  },
  {
   "cell_type": "code",
   "execution_count": 12,
   "outputs": [
    {
     "ename": "ModuleNotFoundError",
     "evalue": "No module named 'multiprocessing.pool'",
     "output_type": "error",
     "traceback": [
      "\u001B[0;31m---------------------------------------------------------------------------\u001B[0m",
      "\u001B[0;31mModuleNotFoundError\u001B[0m                       Traceback (most recent call last)",
      "\u001B[0;32m<ipython-input-12-62c9a44d8658>\u001B[0m in \u001B[0;36m<module>\u001B[0;34m\u001B[0m\n\u001B[1;32m      8\u001B[0m \u001B[0mprojects\u001B[0m \u001B[0;34m=\u001B[0m \u001B[0;34m[\u001B[0m\u001B[0;34m\"crdt-canvas\"\u001B[0m\u001B[0;34m,\u001B[0m \u001B[0;34m\"pintos-for-students\"\u001B[0m\u001B[0;34m]\u001B[0m\u001B[0;34m\u001B[0m\u001B[0;34m\u001B[0m\u001B[0m\n\u001B[1;32m      9\u001B[0m \u001B[0;34m\u001B[0m\u001B[0m\n\u001B[0;32m---> 10\u001B[0;31m \u001B[0;32mwith\u001B[0m \u001B[0mPool\u001B[0m\u001B[0;34m(\u001B[0m\u001B[0;36m8\u001B[0m\u001B[0;34m)\u001B[0m \u001B[0;32mas\u001B[0m \u001B[0mp\u001B[0m\u001B[0;34m:\u001B[0m\u001B[0;34m\u001B[0m\u001B[0;34m\u001B[0m\u001B[0m\n\u001B[0m\u001B[1;32m     11\u001B[0m     \u001B[0mp\u001B[0m\u001B[0;34m.\u001B[0m\u001B[0mmap\u001B[0m\u001B[0;34m(\u001B[0m\u001B[0mbuild_and_save_index\u001B[0m\u001B[0;34m(\u001B[0m\u001B[0;34m)\u001B[0m\u001B[0;34m,\u001B[0m \u001B[0mprojects\u001B[0m\u001B[0;34m)\u001B[0m\u001B[0;34m\u001B[0m\u001B[0;34m\u001B[0m\u001B[0m\n\u001B[1;32m     12\u001B[0m \u001B[0;34m\u001B[0m\u001B[0m\n",
      "\u001B[0;32m/usr/local/Cellar/python@3.9/3.9.1_3/Frameworks/Python.framework/Versions/3.9/lib/python3.9/multiprocessing/context.py\u001B[0m in \u001B[0;36mPool\u001B[0;34m(self, processes, initializer, initargs, maxtasksperchild)\u001B[0m\n",
      "\u001B[0;31mModuleNotFoundError\u001B[0m: No module named 'multiprocessing.pool'"
     ]
    }
   ],
   "source": [
    "\n",
    "def build_and_save_index(stub):\n",
    "    t = time()\n",
    "    index = Index('/Users/kapilan/githome/for_analysis/' + stub)\n",
    "    index.save_index(stub + \"_index.p\")\n",
    "    print(\"Index saved for \" + stub + \" in {} minutes\".format(round((time() - t) / 60, 2)))\n",
    "\n",
    "projects = next(os.walk('/Users/kapilan/githome/for_analysis'))[1]\n",
    "projects = [\"crdt-canvas\", \"pintos-for-students\"]\n",
    "\n",
    "with Pool(8) as p:\n",
    "    p.map(build_and_save_index(), projects)\n",
    "\n",
    "\n"
   ],
   "metadata": {
    "collapsed": false,
    "pycharm": {
     "name": "#%%\n"
    }
   }
  }
 ],
 "metadata": {
  "kernelspec": {
   "display_name": "Python 3",
   "language": "python",
   "name": "python3"
  },
  "language_info": {
   "codemirror_mode": {
    "name": "ipython",
    "version": 2
   },
   "file_extension": ".py",
   "mimetype": "text/x-python",
   "name": "python",
   "nbconvert_exporter": "python",
   "pygments_lexer": "ipython2",
   "version": "2.7.6"
  }
 },
 "nbformat": 4,
 "nbformat_minor": 0
}