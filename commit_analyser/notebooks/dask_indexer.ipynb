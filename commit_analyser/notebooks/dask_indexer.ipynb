{
 "cells": [
  {
   "cell_type": "code",
   "execution_count": 12,
   "metadata": {
    "collapsed": true
   },
   "outputs": [],
   "source": [
    "import dask\n",
    "import os\n",
    "import pickle\n",
    "import time\n",
    "from time import time\n",
    "from gitignore_parser import parse_gitignore\n",
    "from pydriller import RepositoryMining, GitRepository\n",
    "from textblob import TextBlob, Word\n",
    "from tqdm import tqdm"
   ]
  },
  {
   "cell_type": "code",
   "execution_count": 19,
   "outputs": [],
   "source": [
    "@dask.delayed\n",
    "def do_something(x):\n",
    "    if x > 0 :\n",
    "        time.sleep(5)\n",
    "        print('this happened')\n",
    "    if x < 0 :\n",
    "        time.sleep(1)\n",
    "        print('this other thing happened')\n",
    "    return x\n",
    "\n",
    "data = [1, 2, -3]\n",
    "\n",
    "@dask.delayed\n",
    "def stuff(data):\n",
    "    for x in data:\n",
    "        do_something(x)\n",
    "\n",
    "z = stuff(data)\n",
    "z.compute()\n",
    "\n",
    "# import graphviz\n",
    "# z.visualize(rankdir='LR')\n"
   ],
   "metadata": {
    "collapsed": false,
    "pycharm": {
     "name": "#%%\n"
    }
   }
  },
  {
   "cell_type": "code",
   "execution_count": 8,
   "outputs": [],
   "source": [
    "class Index:\n",
    "    def __init__(self, repo_path):\n",
    "        self.repo_path = repo_path\n",
    "        self.repo_stub = repo_path.rsplit('/', 1)[-1]\n",
    "        self.repo_obj = GitRepository(repo_path)\n",
    "        self.index = {}\n",
    "        self.build_index()\n",
    "\n",
    "    @classmethod\n",
    "    def load_index(cls, filepath):\n",
    "        with open(filepath, \"rb\") as file:\n",
    "            return pickle.load(file)\n",
    "\n",
    "    def build_index(self):\n",
    "        file_list = self.get_file_list()\n",
    "        for filepath in tqdm(file_list):\n",
    "            for commit in RepositoryMining(self.repo_path, filepath=filepath).traverse_commits():\n",
    "                self.add(commit.msg, filepath)\n",
    "\n",
    "    def add(self, message, file):\n",
    "        tokens = TextBlob(message).words.lemmatize()\n",
    "        for token in tokens:\n",
    "            try:\n",
    "                self.index[token].add(file)\n",
    "            except KeyError:\n",
    "                self.index[token] = {file}\n",
    "\n",
    "    def search(self, query):\n",
    "        lemma = Word(query).lemmatize()\n",
    "        return self.index[lemma]\n",
    "\n",
    "    def get_file_list(self):\n",
    "        file_list = self.repo_obj.files()\n",
    "        try:\n",
    "            matches = parse_gitignore(self.repo_path + '/.gitignore')\n",
    "        except FileNotFoundError:\n",
    "            return file_list\n",
    "        return [x for x in file_list if not matches(x)]\n",
    "\n",
    "    def save_index(self, filepath):\n",
    "        with open(filepath, \"wb\") as file:\n",
    "            pickle.dump(self, file)"
   ],
   "metadata": {
    "collapsed": false,
    "pycharm": {
     "name": "#%%\n"
    }
   }
  },
  {
   "cell_type": "code",
   "execution_count": 11,
   "outputs": [],
   "source": [
    "@dask.delayed\n",
    "def build_and_save_index(stub):\n",
    "    t = time()\n",
    "    index = Index('/Users/kapilan/githome/for_analysis/' + stub)\n",
    "    index.save_index(stub + \"_index.p\")\n",
    "    print(\"Index saved for \" + stub + \" in {} minutes\".format(round((time() - t) / 60, 2)))\n",
    "    return \"completed\"\n",
    "\n",
    "# projects = next(os.walk('/Users/kapilan/githome/for_analysis'))[1]\n",
    "projects = [\"crdt-canvas\", \"pintos-for-students\"]\n",
    "\n",
    "for stub in projects:\n",
    "    build_and_save_index(stub)\n",
    "\n",
    "total = dask.delayed(print)(\"all done\")"
   ],
   "metadata": {
    "collapsed": false,
    "pycharm": {
     "name": "#%%\n"
    }
   }
  },
  {
   "cell_type": "code",
   "execution_count": null,
   "outputs": [],
   "source": [],
   "metadata": {
    "collapsed": false,
    "pycharm": {
     "name": "#%%\n"
    }
   }
  }
 ],
 "metadata": {
  "kernelspec": {
   "display_name": "Python 3",
   "language": "python",
   "name": "python3"
  },
  "language_info": {
   "codemirror_mode": {
    "name": "ipython",
    "version": 2
   },
   "file_extension": ".py",
   "mimetype": "text/x-python",
   "name": "python",
   "nbconvert_exporter": "python",
   "pygments_lexer": "ipython2",
   "version": "2.7.6"
  }
 },
 "nbformat": 4,
 "nbformat_minor": 0
}