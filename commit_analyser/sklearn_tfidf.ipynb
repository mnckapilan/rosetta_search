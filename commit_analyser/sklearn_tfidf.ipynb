{
 "cells": [
  {
   "cell_type": "code",
   "execution_count": 1,
   "metadata": {
    "collapsed": true,
    "pycharm": {
     "name": "#%%\n"
    }
   },
   "outputs": [],
   "source": [
    "from sklearn.feature_extraction.text import TfidfVectorizer\n",
    "from git import Repo\n",
    "from tqdm import tqdm\n",
    "import pandas as pd"
   ]
  },
  {
   "cell_type": "code",
   "execution_count": 2,
   "outputs": [
    {
     "name": "stderr",
     "output_type": "stream",
     "text": [
      "984148it [00:33, 29142.45it/s]\n"
     ]
    }
   ],
   "source": [
    "commits = []\n",
    "repo_obj = Repo(\"/Users/kapilan/githome/for_analysis/later/linux\")\n",
    "\n",
    "for commit in tqdm(repo_obj.iter_commits()):\n",
    "    commits.append(commit.message)"
   ],
   "metadata": {
    "collapsed": false,
    "pycharm": {
     "name": "#%%\n"
    }
   }
  },
  {
   "cell_type": "code",
   "execution_count": 3,
   "outputs": [],
   "source": [
    "vectorizer = TfidfVectorizer()\n",
    "response = vectorizer.fit_transform(commits)\n"
   ],
   "metadata": {
    "collapsed": false,
    "pycharm": {
     "name": "#%%\n"
    }
   }
  },
  {
   "cell_type": "code",
   "execution_count": 10,
   "outputs": [],
   "source": [
    "df = pd.DataFrame(response[0].T.todense(), index=vectorizer.get_feature_names(), columns=[\"TF-IDF\"])"
   ],
   "metadata": {
    "collapsed": false,
    "pycharm": {
     "name": "#%%\n"
    }
   }
  },
  {
   "cell_type": "code",
   "execution_count": 13,
   "outputs": [
    {
     "name": "stdout",
     "output_type": "stream",
     "text": [
      "                                          TF-IDF\n",
      "000                                          0.0\n",
      "001                                          0.0\n",
      "00262fb3900881a65fe30b2771ba8e58cf4a9b09     0.0\n",
      "00983bcdf0bd747967c6bea520ba695c4152e9c3     0.0\n",
      "00b7                                         0.0\n",
      "...                                          ...\n",
      "ïswitch                                      0.0\n",
      "сhanges                                      0.0\n",
      "任务终止不了                                       0.0\n",
      "禁則処理                                         0.0\n",
      "陈大大哦了                                        0.0\n",
      "\n",
      "[48056 rows x 1 columns]\n"
     ]
    }
   ],
   "source": [
    "df.sort_values('TF-IDF', ascending=False)\n",
    "print(df.head(100))"
   ],
   "metadata": {
    "collapsed": false,
    "pycharm": {
     "name": "#%%\n"
    }
   }
  },
  {
   "cell_type": "code",
   "execution_count": null,
   "outputs": [],
   "source": [],
   "metadata": {
    "collapsed": false,
    "pycharm": {
     "name": "#%%\n"
    }
   }
  }
 ],
 "metadata": {
  "kernelspec": {
   "display_name": "Python 3",
   "language": "python",
   "name": "python3"
  },
  "language_info": {
   "codemirror_mode": {
    "name": "ipython",
    "version": 2
   },
   "file_extension": ".py",
   "mimetype": "text/x-python",
   "name": "python",
   "nbconvert_exporter": "python",
   "pygments_lexer": "ipython2",
   "version": "2.7.6"
  }
 },
 "nbformat": 4,
 "nbformat_minor": 0
}