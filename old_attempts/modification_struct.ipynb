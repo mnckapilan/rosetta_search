{
 "cells": [
  {
   "cell_type": "code",
   "execution_count": 1,
   "metadata": {
    "collapsed": true
   },
   "outputs": [],
   "source": [
    "from time import time\n",
    "import spacy\n",
    "from pydriller import RepositoryMining, GitRepository\n",
    "import pickle\n",
    "from tqdm import tqdm"
   ]
  },
  {
   "cell_type": "code",
   "execution_count": 2,
   "outputs": [],
   "source": [
    "class Commit:\n",
    "    def __init__(self, commit):\n",
    "        self.hash = commit.hash\n",
    "        self.message = commit.msg\n",
    "        self.modifications = commit.modifications\n",
    "        self.files_modified = []\n",
    "        self.lines_changed = (commit.insertions, commit.deletions)\n",
    "\n",
    "        for change in self.modifications:\n",
    "            self.files_modified.append(change.new_path)\n"
   ],
   "metadata": {
    "collapsed": false,
    "pycharm": {
     "name": "#%%\n"
    }
   }
  },
  {
   "cell_type": "code",
   "execution_count": 18,
   "outputs": [
    {
     "name": "stderr",
     "output_type": "stream",
     "text": [
      "100%|██████████| 2453/2453 [00:57<00:00, 42.36it/s]\n"
     ]
    }
   ],
   "source": [
    "## FIRST INDEXING OF CODEBASE\n",
    "\n",
    "path = \"~/githome/crdt-canvas\"\n",
    "\n",
    "repo = GitRepository(path)\n",
    "miner = RepositoryMining(path)\n",
    "\n",
    "file2commits = {}\n",
    "commit2files = {}\n",
    "\n",
    "for filepath in tqdm(repo.files()):\n",
    "    mods = repo.get_commits_modified_file(filepath)\n",
    "    file2commits[filepath] = mods\n",
    "    for mod in mods:\n",
    "        try:\n",
    "            commit2files[mod].add(filepath)\n",
    "        except KeyError:\n",
    "            commit2files[mod] = {filepath}\n"
   ],
   "metadata": {
    "collapsed": false,
    "pycharm": {
     "name": "#%%\n"
    }
   }
  },
  {
   "cell_type": "code",
   "execution_count": 5,
   "outputs": [
    {
     "name": "stderr",
     "output_type": "stream",
     "text": [
      "100%|██████████| 2453/2453 [00:04<00:00, 499.94it/s] \n"
     ]
    }
   ],
   "source": [
    "repo_path = \"~/githome/crdt-canvas\""
   ],
   "metadata": {
    "collapsed": false,
    "pycharm": {
     "name": "#%%\n"
    }
   }
  },
  {
   "cell_type": "code",
   "execution_count": null,
   "outputs": [],
   "source": [
    "\n",
    "repo_path = \"~/githome/crdt-canvas\"\n",
    "\n",
    "repo = GitRepository(repo_path)\n",
    "miner = RepositoryMining(repo_path)\n",
    "\n",
    "file2commits = {}\n",
    "commit2files = {}\n",
    "\n",
    "for filepath in tqdm(repo.files()):\n",
    "    if '/Carthage/' in filepath:\n",
    "        continue\n",
    "    mods = list(RepositoryMining(repo_path, filepath=filepath).traverse_commits())\n",
    "    file2commits[filepath] = mods"
   ],
   "metadata": {
    "collapsed": false,
    "pycharm": {
     "name": "#%%\n"
    }
   }
  },
  {
   "cell_type": "code",
   "execution_count": null,
   "outputs": [],
   "source": [
    "url = \"https://github.com/mnckapilan/crdt-canvas\"\n",
    "stub = url.rsplit('/', 1)[-1]\n",
    "\n",
    "commits = {}\n",
    "for item in RepositoryMining(url).traverse_commits():\n",
    "    commits[item.hash] = Commit(item)\n",
    "\n",
    "len(commits)"
   ],
   "metadata": {
    "collapsed": false,
    "pycharm": {
     "name": "#%%\n"
    }
   }
  },
  {
   "cell_type": "code",
   "execution_count": 34,
   "outputs": [],
   "source": [
    "# dump into pickle file\n",
    "with open(stub + \"structs.p\", \"wb\") as file:\n",
    "    pickle.dump(commits, file)"
   ],
   "metadata": {
    "collapsed": false,
    "pycharm": {
     "name": "#%%\n"
    }
   }
  },
  {
   "cell_type": "code",
   "execution_count": null,
   "outputs": [],
   "source": [],
   "metadata": {
    "collapsed": false,
    "pycharm": {
     "name": "#%%\n"
    }
   }
  }
 ],
 "metadata": {
  "kernelspec": {
   "display_name": "Python 3",
   "language": "python",
   "name": "python3"
  },
  "language_info": {
   "codemirror_mode": {
    "name": "ipython",
    "version": 2
   },
   "file_extension": ".py",
   "mimetype": "text/x-python",
   "name": "python",
   "nbconvert_exporter": "python",
   "pygments_lexer": "ipython2",
   "version": "2.7.6"
  }
 },
 "nbformat": 4,
 "nbformat_minor": 0
}