{
 "cells": [
  {
   "cell_type": "code",
   "execution_count": 92,
   "metadata": {
    "collapsed": true
   },
   "outputs": [],
   "source": [
    "from time import time\n",
    "import spacy\n",
    "from pydriller import RepositoryMining\n",
    "from tqdm import tqdm\n",
    "\n",
    "import pickle"
   ]
  },
  {
   "cell_type": "code",
   "execution_count": 108,
   "outputs": [
    {
     "name": "stderr",
     "output_type": "stream",
     "text": [
      "983956it [08:57, 1829.58it/s] \n"
     ]
    },
    {
     "name": "stdout",
     "output_type": "stream",
     "text": [
      "Time taken: 8.96 mins\n"
     ]
    }
   ],
   "source": [
    "url = \"https://github.com/torvalds/linux\"\n",
    "stub = url.rsplit('/', 1)[-1]\n",
    "\n",
    "\n",
    "t = time()\n",
    "commit_messages = []\n",
    "for commit in tqdm(RepositoryMining(url).traverse_commits()):\n",
    "    commit_messages.append(commit.msg)\n",
    "print('Time taken: {} mins'.format(round((time() - t) / 60, 2)))\n"
   ],
   "metadata": {
    "collapsed": false,
    "pycharm": {
     "name": "#%%\n"
    }
   }
  },
  {
   "cell_type": "code",
   "execution_count": 109,
   "outputs": [
    {
     "name": "stderr",
     "output_type": "stream",
     "text": [
      "100%|██████████| 983956/983956 [1:49:17<00:00, 150.06it/s]  \n"
     ]
    }
   ],
   "source": [
    "nlp = spacy.load(\"en_core_web_lg\")\n",
    "\n",
    "documents = []\n",
    "for message in tqdm(commit_messages):\n",
    "    lemmatized_message = []\n",
    "    doc = nlp(message, disable=['parser', 'ner'])\n",
    "    documents.append(\" \".join([token.lemma_ for token in doc]))"
   ],
   "metadata": {
    "collapsed": false,
    "pycharm": {
     "name": "#%%\n"
    }
   }
  },
  {
   "cell_type": "code",
   "execution_count": 110,
   "outputs": [
    {
     "name": "stdout",
     "output_type": "stream",
     "text": [
      "983956\n"
     ]
    }
   ],
   "source": [
    "print(len(documents))"
   ],
   "metadata": {
    "collapsed": false,
    "pycharm": {
     "name": "#%%\n"
    }
   }
  },
  {
   "cell_type": "code",
   "execution_count": 111,
   "outputs": [],
   "source": [
    "\n",
    "# dump into pickle file\n",
    "with open(stub + \"_lemmatized.p\", \"wb\") as file:\n",
    "    pickle.dump(documents, file)"
   ],
   "metadata": {
    "collapsed": false,
    "pycharm": {
     "name": "#%%\n"
    }
   }
  },
  {
   "cell_type": "code",
   "execution_count": 112,
   "outputs": [
    {
     "name": "stdout",
     "output_type": "stream",
     "text": [
      "983956\n"
     ]
    }
   ],
   "source": [
    "# open pickle file\n",
    "with open(stub + \"_lemmatized.p\", 'rb') as file:\n",
    "    new_list = pickle.load(file)\n",
    "    print(len(new_list))"
   ],
   "metadata": {
    "collapsed": false,
    "pycharm": {
     "name": "#%%\n"
    }
   }
  },
  {
   "cell_type": "code",
   "execution_count": null,
   "outputs": [],
   "source": [],
   "metadata": {
    "collapsed": false,
    "pycharm": {
     "name": "#%%\n"
    }
   }
  }
 ],
 "metadata": {
  "kernelspec": {
   "display_name": "Python 3",
   "language": "python",
   "name": "python3"
  },
  "language_info": {
   "codemirror_mode": {
    "name": "ipython",
    "version": 2
   },
   "file_extension": ".py",
   "mimetype": "text/x-python",
   "name": "python",
   "nbconvert_exporter": "python",
   "pygments_lexer": "ipython2",
   "version": "2.7.6"
  }
 },
 "nbformat": 4,
 "nbformat_minor": 0
}