{
 "cells": [
  {
   "cell_type": "code",
   "execution_count": 2,
   "id": "featured-technician",
   "metadata": {},
   "outputs": [],
   "source": [
    "import fasttext"
   ]
  },
  {
   "cell_type": "code",
   "execution_count": 7,
   "id": "indie-cologne",
   "metadata": {},
   "outputs": [
    {
     "name": "stderr",
     "output_type": "stream",
     "text": [
      "Warning : `load_model` does not return WordVectorModel or SupervisedModel any more, but a `FastText` object which is very similar.\n"
     ]
    }
   ],
   "source": [
    "model = fasttext.load_model(\"data/fasttext_models/linux_commits.bin\")"
   ]
  },
  {
   "cell_type": "code",
   "execution_count": 8,
   "id": "wireless-portland",
   "metadata": {
    "pycharm": {
     "name": "#%%\n"
    }
   },
   "outputs": [
    {
     "data": {
      "text/plain": "[(0.8427209854125977, 'reverts'),\n (0.807726263999939, 'introduced'),\n (0.7820696234703064, 'reintroduced'),\n (0.7522715330123901, 'revert'),\n (0.7391048669815063, 'reintroduces'),\n (0.7379060387611389, 'commmit'),\n (0.7343344688415527, 'reverted'),\n (0.7148386240005493, 'recent'),\n (0.713442325592041, 'reintroduce'),\n (0.710406482219696, 'reintroducing')]"
     },
     "execution_count": 8,
     "metadata": {},
     "output_type": "execute_result"
    }
   ],
   "source": [
    "model.get_nearest_neighbors('commit')"
   ]
  },
  {
   "cell_type": "code",
   "execution_count": null,
   "outputs": [],
   "source": [],
   "metadata": {
    "collapsed": false,
    "pycharm": {
     "name": "#%%\n"
    }
   }
  }
 ],
 "metadata": {
  "kernelspec": {
   "display_name": "Python 3",
   "language": "python",
   "name": "python3"
  },
  "language_info": {
   "codemirror_mode": {
    "name": "ipython",
    "version": 3
   },
   "file_extension": ".py",
   "mimetype": "text/x-python",
   "name": "python",
   "nbconvert_exporter": "python",
   "pygments_lexer": "ipython3",
   "version": "3.9.1"
  }
 },
 "nbformat": 4,
 "nbformat_minor": 5
}