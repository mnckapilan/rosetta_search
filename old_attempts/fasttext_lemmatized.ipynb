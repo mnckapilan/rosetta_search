{
 "cells": [
  {
   "cell_type": "code",
   "execution_count": 9,
   "metadata": {
    "collapsed": true
   },
   "outputs": [],
   "source": [
    "import fasttext\n",
    "import pickle"
   ]
  },
  {
   "cell_type": "code",
   "execution_count": 25,
   "outputs": [
    {
     "name": "stdout",
     "output_type": "stream",
     "text": [
      "BreadcrumbsControl#update should know when something change , https://github.com/microsoft/vscode/issues/112630\n"
     ]
    }
   ],
   "source": [
    "# open pickle file\n",
    "with open(\"vscode_lemmatized.p\", 'rb') as file:\n",
    "    commits = pickle.load(file)\n",
    "\n",
    "print(commits[-20])\n",
    "\n",
    "with open (\"hello.txt\", 'a') as file:\n",
    "    for msg in commits:\n",
    "        file.write(msg.lower())"
   ],
   "metadata": {
    "collapsed": false,
    "pycharm": {
     "name": "#%%\n"
    }
   }
  },
  {
   "cell_type": "code",
   "execution_count": 33,
   "outputs": [],
   "source": [
    "model = fasttext.train_unsupervised(\"hello.txt\")"
   ],
   "metadata": {
    "collapsed": false,
    "pycharm": {
     "name": "#%%\n"
    }
   }
  },
  {
   "cell_type": "code",
   "execution_count": 35,
   "outputs": [
    {
     "data": {
      "text/plain": "['</s>',\n '#',\n '-',\n 'to',\n 'fix',\n '/',\n ':',\n 'for',\n 'in',\n 'the',\n \"'\",\n '(',\n ',',\n 'be',\n 'from',\n 'of',\n '*',\n 'and',\n '`',\n '.',\n '\"',\n 'a',\n 'when',\n 'on',\n 'request',\n 'use',\n 'not',\n 'pull',\n 'add',\n 'into',\n 'branch',\n 'editor',\n ')',\n 'master',\n 'file',\n 'with',\n 'this',\n 'extension',\n 'test',\n 'do',\n 'update',\n 'remove',\n 'as',\n 'change',\n ']',\n 'microsoft',\n 'more',\n \"n't\",\n 'terminal',\n 'lipstick',\n 'if',\n 'that',\n 'code',\n 'up',\n 'remote',\n 'it',\n 'command',\n 'new',\n 'action',\n 'search',\n 'commit',\n 'view',\n 'show',\n 'setting',\n 'error',\n 'support',\n 'revert',\n 'null',\n 'open',\n 'by',\n 'check',\n 'should',\n 'only',\n 'api',\n 'service',\n 'set',\n '>',\n 'we',\n 'vscode',\n 'have',\n 'debug',\n 'make',\n 'move',\n 'event',\n 'icon',\n 'build',\n 'all',\n 'instead',\n 'no',\n 'type',\n 'line',\n 'default',\n 'workspace',\n 'some',\n 'ts',\n 'an',\n 'issue',\n 'focus',\n 'track',\n 'color',\n 'task',\n 'webview',\n ')fix',\n 'part',\n 'comment',\n 'css',\n 'theme',\n 'window',\n 'name',\n 'path',\n 'markdown',\n 'link',\n 'node',\n 'unused',\n 'allow',\n 'work',\n 'context',\n 'menu',\n 'tree',\n 'option',\n 'can',\n '.fix',\n 'origin',\n 'folder',\n 'language',\n 'after',\n 'text',\n 'model',\n 'user',\n 'out',\n 'get',\n 'message',\n 'case',\n 'Microsoft',\n 'custom',\n 'version',\n 'provider',\n 'state',\n 'input',\n 'also',\n 'run',\n 'list',\n 'enable',\n 'git',\n 'html',\n 'close',\n 'widget',\n 'strict',\n 'property',\n 'sure',\n 'call',\n 'or',\n 'key',\n 'before',\n 'json',\n 'need',\n 'tab',\n 'base',\n 'first',\n 'value',\n 'rename',\n 'configuration',\n 'selection',\n 'process',\n 'handle',\n 'config',\n 'create',\n 'relate',\n '<',\n 'find',\n 'resource',\n 'well',\n 'disable',\n '=',\n 'hover',\n 'label',\n 'back',\n 'select',\n 'return',\n 'auto',\n 'js',\n 'empty',\n 'save',\n 'one',\n 'bug',\n 'item',\n 'bar',\n 'start',\n '[',\n 'string',\n 'miss',\n 'at',\n 'preview',\n 'notebook',\n 'result',\n 'adopt',\n 'now',\n 'monaco',\n 'so',\n 'log',\n 'sync',\n 'mode',\n 'telemetry',\n 'merge',\n 'always',\n 'cell',\n 'i',\n 'output',\n 'electron',\n 'match',\n 'there',\n 'title',\n 'diff',\n 'keybinding',\n 'joh',\n 'quick',\n 'cursor',\n 'variable',\n 'function',\n 'font',\n 'panel',\n 'they',\n 'click',\n 'method',\n 'description',\n 'avoid',\n 'root',\n 'active',\n 'same',\n 'fail',\n 'typo',\n 'snippet',\n 'TS',\n 'completion',\n 'render',\n 'which',\n 'layout',\n 'implement',\n 'improve',\n '&',\n 'web',\n 'element',\n 'long',\n ';',\n 'dispose',\n 'workbench',\n 'hide',\n 'resolve',\n ')merge',\n 'group',\n 'breakpoint',\n 'multiple',\n 'button',\n 'introduce',\n 'browser',\n 'vs',\n 'host',\n 'explorer',\n 'compile',\n 'but',\n 'style',\n 'status',\n 'edit',\n 'grammar',\n 'will',\n 'uri',\n 'scroll',\n 'content',\n 'logic',\n 'duplicate',\n 'include',\n 'copy',\n 'position',\n 'pass',\n 'filter',\n 'usage',\n 'tyriar',\n \"'s\",\n 'cache',\n 'reference',\n 'size',\n 'document',\n 'undefined',\n 'read',\n 'go',\n 'own',\n 'other',\n 'emmet',\n 'old',\n 'server',\n 'access',\n 'word',\n '.merge',\n 'replace',\n 'feature',\n 'datum',\n 'viewlet',\n 'token',\n 'restore',\n 'ref',\n 'clean',\n 'script',\n 'while',\n 'break',\n 'late',\n 'clear',\n 'ben',\n 'decoration',\n 'where',\n 'non',\n 'correct',\n 'cause',\n 'current',\n 'class',\n 'object',\n 'character',\n 'single',\n 'register',\n 'trigger',\n 'format',\n 'bad',\n 'delete',\n 'testfix',\n 'problem',\n 'over',\n 'load',\n 'send',\n 'propose',\n 'linux',\n 'end',\n 'time',\n 'any',\n ')add',\n 'range',\n 'try',\n 'suggest',\n 'main',\n 'global',\n '.add',\n 'source',\n 'its',\n 'local',\n 'number',\n 'd',\n 'scm',\n 'since',\n 'launch',\n 'joao',\n 'author',\n 'exist',\n 'prevent',\n 'fold',\n 'highlight',\n 'order',\n 'toggle',\n 'multi',\n 'less',\n 'doc',\n 'rebornix',\n 'pr',\n 'space',\n 'cleanup',\n 'height',\n 'import',\n 'last',\n 'specific',\n 'install',\n '_',\n 'dependency',\n 'progress',\n 'native',\n 'renderer',\n 'rule',\n 'simple',\n 'dialog',\n 'ext',\n 'tag',\n 'without',\n 'switch',\n 'ignore',\n 'keyboard',\n 'tweak',\n 'promise',\n 'picker',\n 'syntax',\n 'suggestion',\n 'next',\n 'around',\n 'about',\n 'extra',\n 'common',\n 'typescript',\n 'block',\n 'outline',\n 'few',\n ':fix',\n 'expand',\n 'split',\n 'session',\n 'display',\n 'drop',\n 'array',\n 'control',\n 'port',\n 'box',\n 'inline',\n 'pick',\n 'take',\n 'right',\n 'async',\n 'off',\n 'github.com',\n 'image',\n 'provide',\n 'inside',\n 'module',\n 'see',\n 'unit',\n '.update',\n 'background',\n 'keep',\n 'these',\n 'exit',\n 'smoke',\n 'patch-1',\n 'release',\n '...',\n 'cut',\n 'stack',\n 'schema',\n 'between',\n 'properly',\n 'apply',\n 'integration',\n 'workaround',\n 'entry',\n 'polish',\n 'sort',\n 'bump',\n 'dirty',\n 'just',\n 'even',\n 'double',\n 'down',\n 'jsdoc',\n 'reveal',\n 'width',\n 'shell',\n 'env',\n 'require',\n 'already',\n 'via',\n 'mouse',\n 'share',\n 'like',\n 'gulp',\n 'top',\n 'than',\n 'exclude',\n 'drag',\n 'backup',\n 'cancel',\n 'wrap',\n 'whitespace',\n 'side',\n 'isidorn',\n 'contribution',\n 'url',\n 'help',\n 'misolori',\n 'aria',\n 'warning',\n 'stop',\n 'distro',\n 'per',\n 'npm',\n 'parameter',\n 'proper',\n 'count',\n 'info',\n 'symbol',\n 'notification',\n 'scope',\n 'you',\n 'different',\n 'storage',\n 'our',\n 'level',\n 'deprecate',\n ')update',\n ':merge',\n 'undo',\n 'exception',\n 'unnecessary',\n 'data',\n 'argument',\n 'simplify',\n 'upstream',\n 'border',\n 'marker',\n 'I',\n 'map',\n 'through',\n 'console',\n 'typing',\n 'extract',\n 'separate',\n 'visible',\n '1',\n 'scheme',\n 'configure',\n 'reduce',\n 'initial',\n 'handling',\n 'implementation',\n 'untitled',\n 'feedback',\n 'restart',\n 'define',\n 'override',\n 'let',\n 'collapse',\n 'thread',\n 'aeschli',\n 'conflict',\n 'sandy081',\n '+',\n 'previous',\n 'field',\n 'definition',\n 'testmerge',\n 'write',\n ')remove',\n 'listener',\n 'mark',\n 'contribute',\n 'contain',\n 'handler',\n 'buffer',\n 'reporter',\n 'alex',\n 'query',\n 'pattern',\n 'readonly',\n 'column',\n 'watch',\n 'activity',\n 'distrofix',\n 'environment',\n 'still',\n 'optional',\n 'detail',\n 'perf',\n 'refactor',\n 'ensure',\n '):',\n '$',\n '{',\n 'container',\n 'would',\n 'light',\n 'escape',\n 'co',\n 'behavior',\n 'diagnostic',\n 'expose',\n 'way',\n 'explicit',\n 'index',\n 'ui',\n 'flag',\n 'paste',\n 'prompt',\n 'preserve',\n 're',\n 'contrast',\n 'too',\n 'two',\n 'because',\n 'store',\n 'reset',\n 'indent',\n 'package',\n 'place',\n 'instal',\n 'sign',\n 'bit',\n 'how',\n 'point',\n 'grid',\n 'respect',\n 'history',\n 'nt',\n 'helper',\n '}',\n 'report',\n '.remove',\n 'attribute',\n '.revert',\n 'currently',\n 'layer',\n 'wait',\n ')use',\n 'yarn',\n 'thing',\n 'align',\n 'disposable',\n 'review',\n 'wrong',\n 'insert',\n 'worker',\n 'recommendation',\n 'fire',\n 'basic',\n 'semantic',\n 'translation',\n 'Code',\n 'dev',\n 'refresh',\n 'prefix',\n 'pin',\n 'folding',\n 'repl',\n 'xterm.js',\n 'limit',\n 'reload',\n 'account',\n 'dom',\n 'interface',\n 'full',\n 'navigation',\n 'expression',\n 'badge',\n 'each',\n 'possible',\n 'give',\n 'parse',\n 'platform',\n 'regex',\n 'var',\n 'standalone',\n '2',\n 'both',\n 'hint',\n 'skip',\n 'convert',\n 'look',\n 'timeout',\n 'another',\n 'head',\n 'bracket',\n 'follow',\n 'again',\n 'quote',\n 'generate',\n 'know',\n 'target',\n 'windows',\n 'invalid',\n 'address',\n 'auth',\n 'complete',\n 'false',\n 'once',\n 'relative',\n 'creation',\n 'page',\n 'enter',\n 'during',\n 'compute',\n 'indicator',\n 'until',\n 'VS',\n 'system',\n 'high',\n 'correctly',\n 'rid',\n 'minimap',\n \"'merge\",\n 'crash',\n 'such',\n 'note',\n 'instance',\n 'child',\n 'protocol',\n 'small',\n 'padding',\n 'their',\n 'php',\n 'zoom',\n 'stable',\n 'disabled',\n 'overflow',\n 'github',\n 'bring',\n 'throw',\n 'xterm',\n 'delay',\n 'validation',\n 'dynamic',\n 'detect',\n 'accept',\n '!',\n 'warn',\n 'large',\n 'indentation',\n \"'fix\",\n 'scrollbar',\n 'dark',\n 'push',\n 'compare',\n 'region',\n '…',\n 'project',\n 'screen',\n 'c',\n 'location',\n 'enum',\n 'then',\n 'id',\n 'additional',\n 'leave',\n 'Windows',\n 'registration',\n 'filefix',\n 'parent',\n 'valid',\n 'header',\n 'modify',\n 'const',\n 'startup',\n 'due',\n 'template',\n 'adapter',\n 'fast',\n 'actually',\n 'client',\n 'reuse',\n 'what',\n ')debt',\n 'area',\n 'forward',\n 'shortcut',\n '0',\n 'peek',\n 'directory',\n 'pane',\n 'detection',\n 'codicon',\n 'standard',\n 'encoding',\n 'activation',\n '%',\n ')debug',\n 'compilation',\n 'come',\n 'never',\n 'breadcrumb',\n 'most',\n 'proxy',\n ')[',\n 'cli',\n 'product',\n 'attach',\n 'src',\n '.use',\n 'mac',\n 'arrow',\n 'core',\n 'package.json',\n 'refactoring',\n 'internal',\n 'macos',\n 'iframe',\n 'fallback',\n 'loading',\n 'frame',\n 'editorfix',\n 'tslint',\n 'step',\n 'real',\n 'margin',\n 'snap',\n 'across',\n 'leak',\n 'servicefix',\n 'intellisense',\n 'kb',\n 'fyi',\n 'force',\n 'many',\n 'condition',\n 'wording',\n 'guard',\n '.debug',\n 'operation',\n 'textmate',\n 'mjbvz',\n 'highlighting',\n 'closing',\n 'seem',\n 'preference',\n 'checking',\n 'against',\n 'recent',\n 'ipc',\n 'documentation',\n 'toolbar',\n 'composite',\n 'consistent',\n 'row',\n 'listen',\n 'turn',\n 'dropdown',\n 'npe',\n 'may',\n 'under',\n '?',\n 'activate',\n 'execute',\n 'nls',\n 'fetch',\n 'lens',\n 'resize',\n 'buildfix',\n 'cancellation',\n 'alt',\n 'testadd',\n 'uris',\n 'xtermj',\n 'center',\n 'tooltip',\n 'execution',\n 'information',\n 'static',\n 'hot',\n 'dnd',\n 'failure',\n '.:',\n 'original',\n 'automatically',\n 'max',\n 'plugin',\n 'grammar[',\n 'actionfix',\n 'happen',\n 'metadata',\n 'second',\n 'insider',\n 'trail',\n 'smoketest',\n 'minor',\n 'special',\n 'distromerge',\n 'download',\n 'could',\n 'available',\n 'roblou',\n 'clipboard',\n 'channel',\n 'redo',\n 'true',\n 'hook',\n 'trust',\n 'formatter',\n 'behaviour',\n 'changefix',\n 'absolute',\n 'opening',\n 'within',\n 'directly',\n 'kind',\n 'increase',\n 'generic',\n 'visibility',\n 'external',\n 'depend',\n 'memory',\n 'drive',\n 'repository',\n 'selector',\n '|',\n 'ca',\n 'enablement',\n 'loop',\n 'jeanp413',\n 'legacy',\n 'welcome',\n 'section',\n 'spelling',\n 'press',\n 'left',\n 'outside',\n 'constant',\n 'init',\n 'UI',\n 'dimension',\n 'opener',\n 'incorrect',\n 'hc',\n 'put',\n 'loader',\n '`fix',\n 'x',\n 'dep',\n 'specify',\n 'accessibility',\n ')revert',\n 'JS',\n 'stage',\n 'catch',\n 'every',\n 'touch',\n 'placeholder',\n 'fs',\n 'very',\n 'lifecycle',\n 'appear',\n 'management',\n 'horizontal',\n 'want',\n 'char',\n 'ripgrep',\n 'await',\n 'edge',\n 'extensionfix',\n 'clone',\n 'tpromise',\n 'arg',\n 'Co',\n 'stat',\n 'signature',\n 'sash',\n 'reader',\n 'hygiene',\n 'filename',\n 'resolver',\n 'early',\n 'export',\n 'previously',\n 'lodash',\n 'react',\n 'logging',\n 'apifix',\n 'regression',\n 'whole',\n 'normal',\n 'itself',\n 'callback',\n 'extend',\n 'palette',\n 'rendering',\n 'identifier',\n 'final',\n 'publish',\n 'lose',\n 'util',\n 'debt',\n ')move',\n 'improvement',\n 'glob',\n 'separator',\n 'matcher',\n 'chore',\n 'proposal',\n 'machine',\n 'encode',\n 'good',\n 'normalize',\n 'bottom',\n 'spec',\n 'errorfix',\n 'distroupdate',\n 'args',\n 'yet',\n 'tsserver',\n 'treat',\n 'reason',\n 'repo',\n 'embed',\n 'term',\n 'keyword',\n 'styling',\n 'invoke',\n 'must',\n 'builtin',\n 'adjust',\n 'flaky',\n 'experimental',\n 'actual',\n 'dot',\n 'commentfix',\n 'regular',\n 'fuzzy',\n 'slash',\n 'viewport',\n 'recommend',\n 'registry',\n 'easy',\n 'live',\n ...]"
     },
     "execution_count": 35,
     "metadata": {},
     "output_type": "execute_result"
    }
   ],
   "source": [
    "model.words"
   ],
   "metadata": {
    "collapsed": false,
    "pycharm": {
     "name": "#%%\n"
    }
   }
  },
  {
   "cell_type": "code",
   "execution_count": 39,
   "outputs": [
    {
     "data": {
      "text/plain": "[(0.8508623838424683, 'gzip'),\n (0.7367944717407227, 'unzip'),\n (0.7150118350982666, '`#'),\n (0.6631089448928833, '/tmp'),\n (0.6625779867172241, 'ip'),\n (0.6567142009735107, '66907'),\n (0.6563293933868408, '99399'),\n (0.6364334225654602, '--skip'),\n (0.6289304494857788, 'SchemaStore.org'),\n (0.6261921525001526, 'datum#')]"
     },
     "execution_count": 39,
     "metadata": {},
     "output_type": "execute_result"
    }
   ],
   "source": [
    "model.get_nearest_neighbors(\"zip\")"
   ],
   "metadata": {
    "collapsed": false,
    "pycharm": {
     "name": "#%%\n"
    }
   }
  },
  {
   "cell_type": "code",
   "execution_count": null,
   "outputs": [],
   "source": [],
   "metadata": {
    "collapsed": false,
    "pycharm": {
     "name": "#%%\n"
    }
   }
  }
 ],
 "metadata": {
  "kernelspec": {
   "display_name": "Python 3",
   "language": "python",
   "name": "python3"
  },
  "language_info": {
   "codemirror_mode": {
    "name": "ipython",
    "version": 2
   },
   "file_extension": ".py",
   "mimetype": "text/x-python",
   "name": "python",
   "nbconvert_exporter": "python",
   "pygments_lexer": "ipython2",
   "version": "2.7.6"
  }
 },
 "nbformat": 4,
 "nbformat_minor": 0
}